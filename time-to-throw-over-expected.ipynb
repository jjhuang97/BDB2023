{
 "cells": [
  {
   "cell_type": "markdown",
   "id": "50db99ed",
   "metadata": {
    "papermill": {
     "duration": 0.004376,
     "end_time": "2022-12-17T02:34:58.472967",
     "exception": false,
     "start_time": "2022-12-17T02:34:58.468591",
     "status": "completed"
    },
    "tags": []
   },
   "source": [
    "**T**ime for **I**ntended **P**ass to be **T**hrown **O**ver **E**xpected (TIPTOE)\n",
    "\n",
    "*Still workshopping the name*"
   ]
  },
  {
   "cell_type": "markdown",
   "id": "c3204b53",
   "metadata": {
    "papermill": {
     "duration": 0.002766,
     "end_time": "2022-12-17T02:34:58.479073",
     "exception": false,
     "start_time": "2022-12-17T02:34:58.476307",
     "status": "completed"
    },
    "tags": []
   },
   "source": [
    "This notebook is the combination of two trained models.\n",
    "\n",
    "The first model, named **E**xpected **L**ineman **M**otion (ELM), predicts how a offensive or defensive lineman will move given their position and other player positions on passing plays. \n",
    "\n",
    "The second model, named **E**xpected **T**ime **T**o **T**hrow (ET3), predicts how much longer a QB has to attempt a pass given positions, velocity, and acceleration of offensive and defensive lineman at any given moment. \n",
    "\n",
    "We use these two models to predict the individual contribution of a lineman's motion to the time to throw. For a given frame, we can calculated the ET3 value. We can then compare an individual's contribution by using the previous frame to compute the expected position of the individual player. Using the new position, another ET3 value is calulated. The difference in the ET3 values is then the TIPTOE value for that individual player for that given frame. This can then be repeated over all frames and a cumulative time over expected can be calculated for a play. "
   ]
  },
  {
   "cell_type": "code",
   "execution_count": 1,
   "id": "51169a3e",
   "metadata": {
    "execution": {
     "iopub.execute_input": "2022-12-17T02:34:58.487168Z",
     "iopub.status.busy": "2022-12-17T02:34:58.486638Z",
     "iopub.status.idle": "2022-12-17T02:35:04.879829Z",
     "shell.execute_reply": "2022-12-17T02:35:04.878558Z"
    },
    "papermill": {
     "duration": 6.400943,
     "end_time": "2022-12-17T02:35:04.883005",
     "exception": false,
     "start_time": "2022-12-17T02:34:58.482062",
     "status": "completed"
    },
    "tags": []
   },
   "outputs": [],
   "source": [
    "import numpy as np\n",
    "import pandas as pd\n",
    "pd.options.mode.chained_assignment = None  # default='warn'\n",
    "\n",
    "import csv\n",
    "import random\n",
    "from matplotlib import pyplot as plt\n",
    "import math\n",
    "from tqdm.notebook import tqdm\n",
    "\n",
    "import tensorflow as tf\n",
    "from tensorflow import keras\n",
    "from tensorflow.keras import layers\n",
    "#from tensorflow.keras.callbacks import EarlyStopping\n",
    "\n",
    "from sklearn.model_selection import train_test_split\n",
    "\n",
    "import seaborn as sns \n",
    "from scipy.stats import pearsonr# This Python 3 environment comes with many helpful analytics libraries installed"
   ]
  },
  {
   "cell_type": "code",
   "execution_count": 2,
   "id": "136d759e",
   "metadata": {
    "execution": {
     "iopub.execute_input": "2022-12-17T02:35:04.891956Z",
     "iopub.status.busy": "2022-12-17T02:35:04.891208Z",
     "iopub.status.idle": "2022-12-17T02:35:19.605175Z",
     "shell.execute_reply": "2022-12-17T02:35:19.604231Z"
    },
    "papermill": {
     "duration": 14.721463,
     "end_time": "2022-12-17T02:35:19.607963",
     "exception": false,
     "start_time": "2022-12-17T02:35:04.886500",
     "status": "completed"
    },
    "tags": []
   },
   "outputs": [],
   "source": [
    "# Import BDB 2023 Data\n",
    "# Pass plays week 1-8 season 2021\n",
    "\n",
    "games_df = pd.read_csv ('../input/nfl-big-data-bowl-2023/games.csv')\n",
    "players_df = pd.read_csv ('../input/nfl-big-data-bowl-2023/players.csv')\n",
    "plays_df = pd.read_csv ('../input/nfl-big-data-bowl-2023/plays.csv')\n",
    "pff_df = pd.read_csv('../input/nfl-big-data-bowl-2023/pffScoutingData.csv')\n",
    "weeks = []\n",
    "for i in [5,6,7,8]:\n",
    "    filename = '../input/nfl-big-data-bowl-2023/week'+str(i)+'.csv'\n",
    "    weeks.append(pd.read_csv(filename))\n",
    "weeks_df = pd.concat(weeks)\n",
    "\n",
    "# merge scout data onto the tracking data \n",
    "weeks_df = weeks_df.merge(pff_df[['gameId', 'playId', 'nflId', 'pff_role','pff_positionLinedUp']], how='left')\n",
    "\n",
    "# Import team color data from Lee Sharpe\n",
    "\n",
    "teamcolors = pd.read_csv(\"https://raw.githubusercontent.com/leesharpe/nfldata/master/data/teamcolors.csv\")"
   ]
  },
  {
   "cell_type": "code",
   "execution_count": 3,
   "id": "2646e66a",
   "metadata": {
    "execution": {
     "iopub.execute_input": "2022-12-17T02:35:19.616753Z",
     "iopub.status.busy": "2022-12-17T02:35:19.615828Z",
     "iopub.status.idle": "2022-12-17T02:35:19.990871Z",
     "shell.execute_reply": "2022-12-17T02:35:19.989898Z"
    },
    "papermill": {
     "duration": 0.382297,
     "end_time": "2022-12-17T02:35:19.993647",
     "exception": false,
     "start_time": "2022-12-17T02:35:19.611350",
     "status": "completed"
    },
    "tags": []
   },
   "outputs": [
    {
     "name": "stderr",
     "output_type": "stream",
     "text": [
      "2022-12-17 02:35:19.672170: I tensorflow/core/common_runtime/process_util.cc:146] Creating new thread pool with default inter op setting: 2. Tune using inter_op_parallelism_threads for best performance.\n"
     ]
    }
   ],
   "source": [
    "# LOAD PREVIOUS MODELS\n",
    "model_OLM = keras.models.load_model('/kaggle/input/lineman-motion/model_OL_movement.h5')\n",
    "model_DLM = keras.models.load_model('/kaggle/input/lineman-motion/model_DL_movement.h5')\n",
    "\n",
    "model_ET3 = keras.models.load_model('/kaggle/input/ttt-final/model_TTT_passplays.h5')"
   ]
  },
  {
   "cell_type": "code",
   "execution_count": 4,
   "id": "d8398962",
   "metadata": {
    "execution": {
     "iopub.execute_input": "2022-12-17T02:35:20.002533Z",
     "iopub.status.busy": "2022-12-17T02:35:20.001612Z",
     "iopub.status.idle": "2022-12-17T02:35:21.523467Z",
     "shell.execute_reply": "2022-12-17T02:35:21.522162Z"
    },
    "papermill": {
     "duration": 1.529229,
     "end_time": "2022-12-17T02:35:21.526426",
     "exception": false,
     "start_time": "2022-12-17T02:35:19.997197",
     "status": "completed"
    },
    "tags": []
   },
   "outputs": [],
   "source": [
    "# get all plays that resulted in a QB pass or sack\n",
    "_pass = ['autoevent_passforward', 'pass_forward', 'qb_sack','qb_strip_sack']\n",
    "_pass_df = weeks_df.loc[weeks_df['event'].isin(_pass)]\n",
    "_gpf_pass = _pass_df.groupby(['gameId','playId','frameId']).size().reset_index().drop(columns=[0])\n",
    "__gpf_pass = _gpf_pass.rename(columns={'frameId':'event_frame'})\n",
    "__gpf_pass = __gpf_pass.merge(plays_df[['gameId','playId','dropBackType']], how='left')\n",
    "gpf = __gpf_pass.loc[__gpf_pass['dropBackType']=='TRADITIONAL']\n",
    "#gpf = __gpf_pass"
   ]
  },
  {
   "cell_type": "code",
   "execution_count": 5,
   "id": "e4519ef8",
   "metadata": {
    "execution": {
     "iopub.execute_input": "2022-12-17T02:35:21.536350Z",
     "iopub.status.busy": "2022-12-17T02:35:21.534925Z",
     "iopub.status.idle": "2022-12-17T02:35:21.571860Z",
     "shell.execute_reply": "2022-12-17T02:35:21.570837Z"
    },
    "papermill": {
     "duration": 0.044783,
     "end_time": "2022-12-17T02:35:21.574746",
     "exception": false,
     "start_time": "2022-12-17T02:35:21.529963",
     "status": "completed"
    },
    "tags": []
   },
   "outputs": [],
   "source": [
    "def data_prep_ET3(one_frame):\n",
    "    meta_cols = ['gameId', 'playId', 'nflId', 'frameId']\n",
    "    data_cols = ['x', 'y', 's', 'o', 'dis', 'a','pff_role']\n",
    "    meta_info = one_frame[meta_cols]\n",
    "    play_dir = -2*int((one_frame.iloc[0].playDirection == 'left'))+1\n",
    "    df = one_frame[data_cols]\n",
    "    QB = one_frame.loc[one_frame['pff_role']=='Pass'][data_cols]\n",
    "    df['pff_role'] = (df['pff_role'].isin(['Pass','Pass Block'])).astype(int)\n",
    "    arr = df.values\n",
    "    xv = play_dir*np.sin(arr[:,3]*np.pi/180)*arr[:,2]\n",
    "    yv = play_dir*np.cos(arr[:,3]*np.pi/180)*arr[:,2]\n",
    "    arr[:,[2,3]] = np.vstack((xv,yv)).T\n",
    "    arr[:,:2] = play_dir*(arr[:,:2] - QB[['x','y']].values[0])\n",
    "    dists = (arr[:,0]**2 + arr[:,1]**2)**0.5\n",
    "    st_arr = np.array([[-100,-100,0,0,0,0,0.5]]*12,dtype='float')\n",
    "    st_arr[:len(dists)] = arr[dists.argsort()[:12]]\n",
    "    \n",
    "    play_info = plays_df.loc[(plays_df['gameId']==one_frame.gameId.values[0])&\n",
    "                             (plays_df['playId']==one_frame.playId.values[0])]\n",
    "    \n",
    "    meta_feats = [one_frame['sec_since_snap'].values[0].tolist(),\n",
    "                  play_info.down.values[0],\n",
    "                  play_info.yardsToGo.values[0],\n",
    "                  (one_frame.pff_role == 'Pass Rush').sum(),\n",
    "                  (one_frame.pff_role == 'Pass Block').sum()]\n",
    "    feat_list = meta_feats + np.concatenate(st_arr).tolist()\n",
    "    \n",
    "    return np.array(np.reshape(feat_list,(1,89)))\n",
    "\n",
    "def ELM2ET3(one_frame,change,nflId):\n",
    "    meta_cols = ['gameId', 'playId', 'nflId', 'frameId']\n",
    "    nflId_list = one_frame.nflId.values\n",
    "    n = np.where(nflId_list==nflId)[0][0]\n",
    "    data_cols = ['x', 'y', 's', 'o', 'dis', 'a','pff_role']\n",
    "    meta_info = one_frame[meta_cols]\n",
    "    play_dir = -2*int((one_frame.iloc[0].playDirection == 'left'))+1\n",
    "    df = one_frame[data_cols]\n",
    "    QB = one_frame.loc[one_frame['pff_role']=='Pass'][data_cols]\n",
    "    df['pff_role'] = (df['pff_role'].isin(['Pass','Pass Block'])).astype(int)\n",
    "    arr = df.values\n",
    "    xv = play_dir*np.sin(arr[:,3]*np.pi/180)*arr[:,2]\n",
    "    yv = play_dir*np.cos(arr[:,3]*np.pi/180)*arr[:,2]\n",
    "    arr[:,[2,3]] = np.vstack((xv,yv)).T\n",
    "    arr[:,:2] = play_dir*(arr[:,:2] - QB[['x','y']].values[0])\n",
    "    arr[n,:2] = change[:2]\n",
    "    arr[n,[2,3,4]] = change[[2,3,4]]\n",
    "    dists = (arr[:,0]**2 + arr[:,1]**2)**0.5\n",
    "    st_arr = np.array([[-100,-100,0,0,0,0,0.5]]*12,dtype='float')\n",
    "    st_arr[:len(dists)] = arr[dists.argsort()[:12]]\n",
    "    \n",
    "    play_info = plays_df.loc[(plays_df['gameId']==one_frame.gameId.values[0])&\n",
    "                             (plays_df['playId']==one_frame.playId.values[0])]\n",
    "    \n",
    "    meta_feats = [one_frame['sec_since_snap'].values[0].tolist(),\n",
    "                  play_info.down.values[0],\n",
    "                  play_info.yardsToGo.values[0],\n",
    "                  (one_frame.pff_role == 'Pass Rush').sum(),\n",
    "                  (one_frame.pff_role == 'Pass Block').sum()]\n",
    "    feat_list = meta_feats + np.concatenate(st_arr).tolist()\n",
    "    \n",
    "    return feat_list\n",
    "\n",
    "def data_prep_ELM(one_frame,next_frame):\n",
    "    t_orig = np.array(model_ET3(data_prep_ET3(next_frame)))[0][0]\n",
    "    meta_cols = ['gameId', 'playId', 'nflId', 'frameId']\n",
    "    data_cols = ['x', 'y', 's', 'o', 'dis', 'a','pff_role']\n",
    "    next_cols = ['x', 'y', 's', 'o', 'a']\n",
    "    meta_info = one_frame[meta_cols]\n",
    "    play_dir = -2*int((one_frame.iloc[0].playDirection == 'left'))+1\n",
    "    QB = one_frame.loc[one_frame['pff_role']=='Pass'][data_cols]\n",
    "    no_QB = one_frame.loc[one_frame['pff_role']!='Pass'][data_cols]\n",
    "    no_QB['pff_role'] = (no_QB['pff_role'] == 'Pass Block').astype(int)\n",
    "    nflId_list = one_frame.loc[one_frame['pff_role']!='Pass'].nflId.values\n",
    "    no_QB_arr = no_QB.values\n",
    "    xv = np.sin(no_QB_arr[:,3]*np.pi/180)*no_QB_arr[:,2]\n",
    "    yv = np.cos(no_QB_arr[:,3]*np.pi/180)*no_QB_arr[:,2]\n",
    "    no_QB_arr[:,[2,3]] = np.vstack((xv,yv)).T\n",
    "    est_TTT = []\n",
    "    c = 0\n",
    "    for targ in no_QB_arr:\n",
    "        t_arr = no_QB_arr.copy()\n",
    "        t_arr[:,:2] = t_arr[:,:2] - targ[:2]\n",
    "        dists = (t_arr[:,0]**2 + t_arr[:,1]**2)**0.5\n",
    "        st_arr = t_arr[dists.argsort()[1:6]]\n",
    "        st_arr[:,:4] = play_dir*st_arr[:,:4]\n",
    "        indiv_feats = (QB[['x','y']].values[0] - targ[:2]).tolist()+targ[2:].tolist()\n",
    "        feats = indiv_feats + np.concatenate(st_arr).tolist()\n",
    "        feats_arr = np.reshape(np.array(feats),(1,42))\n",
    "        if targ[6] == 1: #if OL\n",
    "            change = np.array(model_OLM(feats_arr))[0]\n",
    "        elif targ[6] == 0: #if DL\n",
    "            change = np.array(model_DLM(feats_arr))[0]\n",
    "        change[:2] = play_dir*(targ[:2] - QB[['x','y']].values[0])\n",
    "        feats_ch = ELM2ET3(next_frame,change,nflId_list[c])\n",
    "        feats_ch_arr = np.reshape(np.array(feats_ch),(1,89))\n",
    "        est_TTT.append([meta_info.gameId.values[0],meta_info.playId.values[0],meta_info.frameId.values[0],nflId_list[c],np.array(model_ET3(feats_ch_arr))[0][0] - t_orig])\n",
    "        c += 1\n",
    "    return est_TTT \n",
    "\n"
   ]
  },
  {
   "cell_type": "code",
   "execution_count": 6,
   "id": "6add37ee",
   "metadata": {
    "execution": {
     "iopub.execute_input": "2022-12-17T02:35:21.583820Z",
     "iopub.status.busy": "2022-12-17T02:35:21.582964Z",
     "iopub.status.idle": "2022-12-17T06:49:19.280878Z",
     "shell.execute_reply": "2022-12-17T06:49:19.279590Z"
    },
    "papermill": {
     "duration": 15237.705625,
     "end_time": "2022-12-17T06:49:19.283844",
     "exception": false,
     "start_time": "2022-12-17T02:35:21.578219",
     "status": "completed"
    },
    "tags": []
   },
   "outputs": [
    {
     "data": {
      "application/vnd.jupyter.widget-view+json": {
       "model_id": "3a4cac49ad3e4289ac97bb62b1ca8e10",
       "version_major": 2,
       "version_minor": 0
      },
      "text/plain": [
       "  0%|          | 0/4444 [00:00<?, ?it/s]"
      ]
     },
     "metadata": {},
     "output_type": "display_data"
    }
   ],
   "source": [
    "TIPTOE_list = []\n",
    "df = pd.DataFrame(columns = ['nflId', 'TTT', 'TTTOE', 'gameId', 'playId', 'frameId'])\n",
    "for i, data in tqdm(gpf.iterrows(),total=len(gpf)):\n",
    "    one_play = weeks_df.loc[(weeks_df['gameId']==data.gameId)&(weeks_df['playId']==data.playId)]\n",
    "    one_play['sec_til_event'] = (data.event_frame - one_play.frameId)/10\n",
    "    snap_fr = one_play.loc[one_play['event'].isin(['autoevent_ballsnap', 'ball_snap'])].frameId.max()\n",
    "    one_play['sec_since_snap'] = (one_play.frameId - snap_fr)/10\n",
    "    play_players = one_play.loc[(one_play['frameId'] >= snap_fr - 1) &\n",
    "                                (one_play['pff_role'].isin(['Pass','Pass Rush','Pass Block'])) &\n",
    "                                (one_play['sec_til_event'] >= 0)]\n",
    "    \n",
    "    if not sorted(play_players.pff_role.unique()) == sorted(['Pass','Pass Rush','Pass Block']):\n",
    "            continue \n",
    "    \n",
    "    down = plays_df.loc[(plays_df['gameId'] == one_play.gameId.mode()[0]) & (plays_df['playId'] == one_play.playId.mode()[0])].down.values[0]\n",
    "    togo = plays_df.loc[(plays_df['gameId'] == one_play.gameId.mode()[0]) & (plays_df['playId'] == one_play.playId.mode()[0])].yardsToGo.values[0]\n",
    "    norm_pos = one_play.loc[(one_play['team'] == 'football') & (one_play['frameId'] == snap_fr)][['x','y']]\n",
    "    \n",
    "    _target = []\n",
    "    for fid in play_players.frameId.unique()[1:]:\n",
    "        one_frame = play_players.loc[play_players['frameId']==fid-1]\n",
    "        next_frame = play_players.loc[play_players['frameId']==fid]\n",
    "        t_adj = data_prep_ELM(one_frame,next_frame)\n",
    "        TIPTOE_list = TIPTOE_list + t_adj\n",
    "TIPTOE = pd.DataFrame(TIPTOE_list,columns=['gameId', 'playId', 'frameId', 'nflId', 'TTTOE'])"
   ]
  },
  {
   "cell_type": "code",
   "execution_count": 7,
   "id": "42ed3d5c",
   "metadata": {
    "execution": {
     "iopub.execute_input": "2022-12-17T06:49:19.293316Z",
     "iopub.status.busy": "2022-12-17T06:49:19.292511Z",
     "iopub.status.idle": "2022-12-17T06:49:23.079335Z",
     "shell.execute_reply": "2022-12-17T06:49:23.078236Z"
    },
    "papermill": {
     "duration": 3.794626,
     "end_time": "2022-12-17T06:49:23.082244",
     "exception": false,
     "start_time": "2022-12-17T06:49:19.287618",
     "status": "completed"
    },
    "tags": []
   },
   "outputs": [],
   "source": [
    "TIPTOE.to_csv('TIPTOE_week5-8.csv',index=False)"
   ]
  }
 ],
 "metadata": {
  "kernelspec": {
   "display_name": "Python 3",
   "language": "python",
   "name": "python3"
  },
  "language_info": {
   "codemirror_mode": {
    "name": "ipython",
    "version": 3
   },
   "file_extension": ".py",
   "mimetype": "text/x-python",
   "name": "python",
   "nbconvert_exporter": "python",
   "pygments_lexer": "ipython3",
   "version": "3.7.12"
  },
  "papermill": {
   "default_parameters": {},
   "duration": 15275.551886,
   "end_time": "2022-12-17T06:49:25.734737",
   "environment_variables": {},
   "exception": null,
   "input_path": "__notebook__.ipynb",
   "output_path": "__notebook__.ipynb",
   "parameters": {},
   "start_time": "2022-12-17T02:34:50.182851",
   "version": "2.3.4"
  },
  "widgets": {
   "application/vnd.jupyter.widget-state+json": {
    "state": {
     "1c924c11618a4effa2524fdf54a9a039": {
      "model_module": "@jupyter-widgets/base",
      "model_module_version": "1.2.0",
      "model_name": "LayoutModel",
      "state": {
       "_model_module": "@jupyter-widgets/base",
       "_model_module_version": "1.2.0",
       "_model_name": "LayoutModel",
       "_view_count": null,
       "_view_module": "@jupyter-widgets/base",
       "_view_module_version": "1.2.0",
       "_view_name": "LayoutView",
       "align_content": null,
       "align_items": null,
       "align_self": null,
       "border": null,
       "bottom": null,
       "display": null,
       "flex": null,
       "flex_flow": null,
       "grid_area": null,
       "grid_auto_columns": null,
       "grid_auto_flow": null,
       "grid_auto_rows": null,
       "grid_column": null,
       "grid_gap": null,
       "grid_row": null,
       "grid_template_areas": null,
       "grid_template_columns": null,
       "grid_template_rows": null,
       "height": null,
       "justify_content": null,
       "justify_items": null,
       "left": null,
       "margin": null,
       "max_height": null,
       "max_width": null,
       "min_height": null,
       "min_width": null,
       "object_fit": null,
       "object_position": null,
       "order": null,
       "overflow": null,
       "overflow_x": null,
       "overflow_y": null,
       "padding": null,
       "right": null,
       "top": null,
       "visibility": null,
       "width": null
      }
     },
     "3962f86fb56a4f6bb30e452d6dcbc4db": {
      "model_module": "@jupyter-widgets/controls",
      "model_module_version": "1.5.0",
      "model_name": "FloatProgressModel",
      "state": {
       "_dom_classes": [],
       "_model_module": "@jupyter-widgets/controls",
       "_model_module_version": "1.5.0",
       "_model_name": "FloatProgressModel",
       "_view_count": null,
       "_view_module": "@jupyter-widgets/controls",
       "_view_module_version": "1.5.0",
       "_view_name": "ProgressView",
       "bar_style": "success",
       "description": "",
       "description_tooltip": null,
       "layout": "IPY_MODEL_5c6e7d98cd9949bfa0e2e0505eacbe3f",
       "max": 4444.0,
       "min": 0.0,
       "orientation": "horizontal",
       "style": "IPY_MODEL_da6785cf85a641b2a70a6adb6a230fce",
       "value": 4444.0
      }
     },
     "3a4cac49ad3e4289ac97bb62b1ca8e10": {
      "model_module": "@jupyter-widgets/controls",
      "model_module_version": "1.5.0",
      "model_name": "HBoxModel",
      "state": {
       "_dom_classes": [],
       "_model_module": "@jupyter-widgets/controls",
       "_model_module_version": "1.5.0",
       "_model_name": "HBoxModel",
       "_view_count": null,
       "_view_module": "@jupyter-widgets/controls",
       "_view_module_version": "1.5.0",
       "_view_name": "HBoxView",
       "box_style": "",
       "children": [
        "IPY_MODEL_a206587b115c4921a3cd3f689d02016d",
        "IPY_MODEL_3962f86fb56a4f6bb30e452d6dcbc4db",
        "IPY_MODEL_be43496c56b74f609b96584de1e2f3aa"
       ],
       "layout": "IPY_MODEL_91993ce08585447eaa49fa17396383cd"
      }
     },
     "4315abb49d3c498f8df09772e81154d5": {
      "model_module": "@jupyter-widgets/base",
      "model_module_version": "1.2.0",
      "model_name": "LayoutModel",
      "state": {
       "_model_module": "@jupyter-widgets/base",
       "_model_module_version": "1.2.0",
       "_model_name": "LayoutModel",
       "_view_count": null,
       "_view_module": "@jupyter-widgets/base",
       "_view_module_version": "1.2.0",
       "_view_name": "LayoutView",
       "align_content": null,
       "align_items": null,
       "align_self": null,
       "border": null,
       "bottom": null,
       "display": null,
       "flex": null,
       "flex_flow": null,
       "grid_area": null,
       "grid_auto_columns": null,
       "grid_auto_flow": null,
       "grid_auto_rows": null,
       "grid_column": null,
       "grid_gap": null,
       "grid_row": null,
       "grid_template_areas": null,
       "grid_template_columns": null,
       "grid_template_rows": null,
       "height": null,
       "justify_content": null,
       "justify_items": null,
       "left": null,
       "margin": null,
       "max_height": null,
       "max_width": null,
       "min_height": null,
       "min_width": null,
       "object_fit": null,
       "object_position": null,
       "order": null,
       "overflow": null,
       "overflow_x": null,
       "overflow_y": null,
       "padding": null,
       "right": null,
       "top": null,
       "visibility": null,
       "width": null
      }
     },
     "5c6e7d98cd9949bfa0e2e0505eacbe3f": {
      "model_module": "@jupyter-widgets/base",
      "model_module_version": "1.2.0",
      "model_name": "LayoutModel",
      "state": {
       "_model_module": "@jupyter-widgets/base",
       "_model_module_version": "1.2.0",
       "_model_name": "LayoutModel",
       "_view_count": null,
       "_view_module": "@jupyter-widgets/base",
       "_view_module_version": "1.2.0",
       "_view_name": "LayoutView",
       "align_content": null,
       "align_items": null,
       "align_self": null,
       "border": null,
       "bottom": null,
       "display": null,
       "flex": null,
       "flex_flow": null,
       "grid_area": null,
       "grid_auto_columns": null,
       "grid_auto_flow": null,
       "grid_auto_rows": null,
       "grid_column": null,
       "grid_gap": null,
       "grid_row": null,
       "grid_template_areas": null,
       "grid_template_columns": null,
       "grid_template_rows": null,
       "height": null,
       "justify_content": null,
       "justify_items": null,
       "left": null,
       "margin": null,
       "max_height": null,
       "max_width": null,
       "min_height": null,
       "min_width": null,
       "object_fit": null,
       "object_position": null,
       "order": null,
       "overflow": null,
       "overflow_x": null,
       "overflow_y": null,
       "padding": null,
       "right": null,
       "top": null,
       "visibility": null,
       "width": null
      }
     },
     "711636a5910549508a197b2aad1b6050": {
      "model_module": "@jupyter-widgets/controls",
      "model_module_version": "1.5.0",
      "model_name": "DescriptionStyleModel",
      "state": {
       "_model_module": "@jupyter-widgets/controls",
       "_model_module_version": "1.5.0",
       "_model_name": "DescriptionStyleModel",
       "_view_count": null,
       "_view_module": "@jupyter-widgets/base",
       "_view_module_version": "1.2.0",
       "_view_name": "StyleView",
       "description_width": ""
      }
     },
     "91993ce08585447eaa49fa17396383cd": {
      "model_module": "@jupyter-widgets/base",
      "model_module_version": "1.2.0",
      "model_name": "LayoutModel",
      "state": {
       "_model_module": "@jupyter-widgets/base",
       "_model_module_version": "1.2.0",
       "_model_name": "LayoutModel",
       "_view_count": null,
       "_view_module": "@jupyter-widgets/base",
       "_view_module_version": "1.2.0",
       "_view_name": "LayoutView",
       "align_content": null,
       "align_items": null,
       "align_self": null,
       "border": null,
       "bottom": null,
       "display": null,
       "flex": null,
       "flex_flow": null,
       "grid_area": null,
       "grid_auto_columns": null,
       "grid_auto_flow": null,
       "grid_auto_rows": null,
       "grid_column": null,
       "grid_gap": null,
       "grid_row": null,
       "grid_template_areas": null,
       "grid_template_columns": null,
       "grid_template_rows": null,
       "height": null,
       "justify_content": null,
       "justify_items": null,
       "left": null,
       "margin": null,
       "max_height": null,
       "max_width": null,
       "min_height": null,
       "min_width": null,
       "object_fit": null,
       "object_position": null,
       "order": null,
       "overflow": null,
       "overflow_x": null,
       "overflow_y": null,
       "padding": null,
       "right": null,
       "top": null,
       "visibility": null,
       "width": null
      }
     },
     "a206587b115c4921a3cd3f689d02016d": {
      "model_module": "@jupyter-widgets/controls",
      "model_module_version": "1.5.0",
      "model_name": "HTMLModel",
      "state": {
       "_dom_classes": [],
       "_model_module": "@jupyter-widgets/controls",
       "_model_module_version": "1.5.0",
       "_model_name": "HTMLModel",
       "_view_count": null,
       "_view_module": "@jupyter-widgets/controls",
       "_view_module_version": "1.5.0",
       "_view_name": "HTMLView",
       "description": "",
       "description_tooltip": null,
       "layout": "IPY_MODEL_1c924c11618a4effa2524fdf54a9a039",
       "placeholder": "​",
       "style": "IPY_MODEL_a6fd4ca0c90048a08998248e55f9551d",
       "value": "100%"
      }
     },
     "a6fd4ca0c90048a08998248e55f9551d": {
      "model_module": "@jupyter-widgets/controls",
      "model_module_version": "1.5.0",
      "model_name": "DescriptionStyleModel",
      "state": {
       "_model_module": "@jupyter-widgets/controls",
       "_model_module_version": "1.5.0",
       "_model_name": "DescriptionStyleModel",
       "_view_count": null,
       "_view_module": "@jupyter-widgets/base",
       "_view_module_version": "1.2.0",
       "_view_name": "StyleView",
       "description_width": ""
      }
     },
     "be43496c56b74f609b96584de1e2f3aa": {
      "model_module": "@jupyter-widgets/controls",
      "model_module_version": "1.5.0",
      "model_name": "HTMLModel",
      "state": {
       "_dom_classes": [],
       "_model_module": "@jupyter-widgets/controls",
       "_model_module_version": "1.5.0",
       "_model_name": "HTMLModel",
       "_view_count": null,
       "_view_module": "@jupyter-widgets/controls",
       "_view_module_version": "1.5.0",
       "_view_name": "HTMLView",
       "description": "",
       "description_tooltip": null,
       "layout": "IPY_MODEL_4315abb49d3c498f8df09772e81154d5",
       "placeholder": "​",
       "style": "IPY_MODEL_711636a5910549508a197b2aad1b6050",
       "value": " 4444/4444 [4:13:55&lt;00:00,  4.52s/it]"
      }
     },
     "da6785cf85a641b2a70a6adb6a230fce": {
      "model_module": "@jupyter-widgets/controls",
      "model_module_version": "1.5.0",
      "model_name": "ProgressStyleModel",
      "state": {
       "_model_module": "@jupyter-widgets/controls",
       "_model_module_version": "1.5.0",
       "_model_name": "ProgressStyleModel",
       "_view_count": null,
       "_view_module": "@jupyter-widgets/base",
       "_view_module_version": "1.2.0",
       "_view_name": "StyleView",
       "bar_color": null,
       "description_width": ""
      }
     }
    },
    "version_major": 2,
    "version_minor": 0
   }
  }
 },
 "nbformat": 4,
 "nbformat_minor": 5
}
